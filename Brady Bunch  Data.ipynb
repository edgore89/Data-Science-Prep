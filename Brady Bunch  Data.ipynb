{
 "cells": [
  {
   "cell_type": "code",
   "execution_count": 20,
   "metadata": {},
   "outputs": [
    {
     "name": "stdout",
     "output_type": "stream",
     "text": [
      "mean: 9.857142857142858\n",
      "median: 10.0\n",
      "variance: 6.408163265306122\n",
      "std. deviation: 2.531435020952764\n",
      "standard err. : 1.0334540197243194\n",
      "mode: 8\n"
     ]
    }
   ],
   "source": [
    "import numpy as np\n",
    "import pandas as pd\n",
    "\n",
    "ages =[14, 12, 11, 10, 8, 6, 8]\n",
    "\n",
    "n = len(ages)\n",
    "mean = np.mean(ages)\n",
    "median = np.median(ages)\n",
    "var = np.var(ages)\n",
    "std = np.std(ages)\n",
    "std_err = std/np.sqrt(n-1)\n",
    "                 \n",
    "print('mean:', mean)\n",
    "print('median:', median)\n",
    "print('variance:', var)\n",
    "print('std. deviation:', std)\n",
    "print(\"standard err. :\",std_err)\n",
    "\n",
    "print('mode: 8')"
   ]
  },
  {
   "cell_type": "code",
   "execution_count": null,
   "metadata": {},
   "outputs": [],
   "source": [
    "#mean and standard deviation represent the data accurately"
   ]
  },
  {
   "cell_type": "code",
   "execution_count": 22,
   "metadata": {},
   "outputs": [
    {
     "name": "stdout",
     "output_type": "stream",
     "text": [
      "mean: 10.0\n",
      "median: 10.0\n",
      "variance: 5.428571428571429\n",
      "std. deviation: 2.32992949004287\n",
      "standard err. : 0.951189731211342\n",
      "mode: 8\n"
     ]
    }
   ],
   "source": [
    "ages2 =[14,12,11,10,8,7,8]\n",
    "n = len(ages2)\n",
    "mean = np.mean(ages2)\n",
    "median = np.median(ages2)\n",
    "var = np.var(ages2)\n",
    "std = np.std(ages2)\n",
    "std_err = std/np.sqrt(n-1)\n",
    "                 \n",
    "print('mean:', mean)\n",
    "print('median:', median)\n",
    "print('variance:', var)\n",
    "print('std. deviation:', std)\n",
    "print(\"standard err. :\",std_err)\n",
    "\n",
    "print('mode: 8')"
   ]
  },
  {
   "cell_type": "code",
   "execution_count": 23,
   "metadata": {},
   "outputs": [
    {
     "name": "stdout",
     "output_type": "stream",
     "text": [
      "mean: 9.0\n",
      "median: 10.0\n",
      "variance: 15.428571428571429\n",
      "std. deviation: 3.927922024247863\n",
      "standard err. : 1.6035674514745466\n",
      "No mode\n"
     ]
    }
   ],
   "source": [
    "ages3 =[14,12,11,10,8,7,1]\n",
    "n = len(ages3)\n",
    "mean = np.mean(ages3)\n",
    "median = np.median(ages3)\n",
    "var = np.var(ages3)\n",
    "std = np.std(ages3)\n",
    "std_err = std/np.sqrt(n-1)\n",
    "                 \n",
    "print('mean:', mean)\n",
    "print('median:', median)\n",
    "print('variance:', var)\n",
    "print('std. deviation:', std)\n",
    "print(\"standard err. :\",std_err)\n",
    "\n",
    "print('No mode')"
   ]
  },
  {
   "cell_type": "code",
   "execution_count": 29,
   "metadata": {},
   "outputs": [
    {
     "name": "stdout",
     "output_type": "stream",
     "text": [
      "20.0\n"
     ]
    }
   ],
   "source": [
    "fans = [20, 23, 17]\n",
    "mean_fans = np.mean(fans)\n",
    "print(mean_fans)\n",
    "#exclude SchiPhi"
   ]
  },
  {
   "cell_type": "code",
   "execution_count": null,
   "metadata": {},
   "outputs": [],
   "source": []
  }
 ],
 "metadata": {
  "kernelspec": {
   "display_name": "Python 3",
   "language": "python",
   "name": "python3"
  },
  "language_info": {
   "codemirror_mode": {
    "name": "ipython",
    "version": 3
   },
   "file_extension": ".py",
   "mimetype": "text/x-python",
   "name": "python",
   "nbconvert_exporter": "python",
   "pygments_lexer": "ipython3",
   "version": "3.7.0"
  }
 },
 "nbformat": 4,
 "nbformat_minor": 2
}
